{
 "cells": [
  {
   "cell_type": "markdown",
   "metadata": {},
   "source": [
    "# Generating predictions for click through rate (pCTR) via logistic regression"
   ]
  },
  {
   "cell_type": "code",
   "execution_count": 51,
   "metadata": {},
   "outputs": [],
   "source": [
    "from util import *\n",
    "from scipy import sparse\n",
    "from sklearn.linear_model import LogisticRegression\n",
    "from sklearn.metrics import roc_auc_score\n",
    "import numpy as np"
   ]
  },
  {
   "cell_type": "code",
   "execution_count": 52,
   "metadata": {},
   "outputs": [],
   "source": [
    "#Setting up variables\n",
    "inPath = \"../../make-ipinyou-data/\"\n",
    "outPath = \"../data/\"\n",
    "campaigns = [\"1458\", \"2261\", \"2997\", \"3386\", \"3476\", \"2259\", \"2821\", \"3358\", \"3427\"]"
   ]
  },
  {
   "cell_type": "code",
   "execution_count": 4,
   "metadata": {},
   "outputs": [],
   "source": [
    "camp = campaigns[0]"
   ]
  },
  {
   "cell_type": "code",
   "execution_count": 5,
   "metadata": {},
   "outputs": [],
   "source": [
    "inTrainName = inPath + camp + \"/\" +  \"train.yzx.txt\"\n",
    "outTrainPath = outPath + camp + \"/\" + \"train.theta.txt\"\n",
    "\n",
    "inTestName = inPath + camp + \"/\" + \"test.yzx.txt\"\n",
    "outTestPath = outPath + camp + \"/\" + \"test.theta.txt\""
   ]
  },
  {
   "cell_type": "code",
   "execution_count": 6,
   "metadata": {},
   "outputs": [],
   "source": [
    "def log(msg):\n",
    "  if isLogging:\n",
    "    print(msg)"
   ]
  },
  {
   "cell_type": "code",
   "execution_count": 7,
   "metadata": {},
   "outputs": [],
   "source": [
    "isLogging = True"
   ]
  },
  {
   "cell_type": "markdown",
   "metadata": {},
   "source": [
    "### Loading Data\n",
    "\n",
    "Data format:\n",
    "\n",
    "click(0,1)  winning_price(int)  features(featindex1:1 featindex2:1 featindex3:1 ...)"
   ]
  },
  {
   "cell_type": "code",
   "execution_count": 8,
   "metadata": {},
   "outputs": [],
   "source": [
    "def loadData(filename):\n",
    "  log(\"Loading data...\")\n",
    "  with open(filename) as f:\n",
    "    lines = f.readlines()\n",
    "    \n",
    "  log(\"Reformatting data...\")\n",
    "  m = len(lines)\n",
    "  clicks = np.zeros((m,), dtype=int)\n",
    "  prices = np.zeros((m,), dtype=int)\n",
    "  features = []\n",
    "  for i, line in enumerate(lines):\n",
    "    line = line.split(\" \")\n",
    "    clicks[i] = line[0]\n",
    "    prices[i] = line[1]\n",
    "    features.append({int(k):int(v) for k,v in (x.split(\":\") for x in line[2:])})\n",
    "\n",
    "  return clicks, prices, features"
   ]
  },
  {
   "cell_type": "code",
   "execution_count": 9,
   "metadata": {},
   "outputs": [
    {
     "name": "stdout",
     "output_type": "stream",
     "text": [
      "Loading data...\n",
      "Reformatting data...\n",
      "CPU times: user 55 s, sys: 1.8 s, total: 56.8 s\n",
      "Wall time: 56.9 s\n"
     ]
    }
   ],
   "source": [
    "%%time\n",
    "d_train = loadData(inTrainName)\n",
    "clicks_train, prices_train, features_train = d_train"
   ]
  },
  {
   "cell_type": "code",
   "execution_count": 11,
   "metadata": {},
   "outputs": [
    {
     "name": "stdout",
     "output_type": "stream",
     "text": [
      "Loading data...\n",
      "Reformatting data...\n",
      "CPU times: user 11.2 s, sys: 369 ms, total: 11.6 s\n",
      "Wall time: 11.6 s\n"
     ]
    }
   ],
   "source": [
    "%%time\n",
    "d_test = loadData(inTestName)\n",
    "clicks_test, prices_test, features_test = d_test"
   ]
  },
  {
   "cell_type": "code",
   "execution_count": 24,
   "metadata": {},
   "outputs": [],
   "source": [
    "m_train = len(clicks_train)\n",
    "m_test = len(clicks_test)\n",
    "\n",
    "nFeatures_train = max(max(i) for i in (feature for feature in features_train)) + 1\n",
    "nFeatures_test = max(max(i) for i in (feature for feature in features_train)) + 1\n",
    "nFeatures = max(nFeatures_train, nFeatures_test)"
   ]
  },
  {
   "cell_type": "code",
   "execution_count": 25,
   "metadata": {},
   "outputs": [
    {
     "name": "stdout",
     "output_type": "stream",
     "text": [
      "3083056\n",
      "614638\n",
      "560870\n",
      "0\n",
      "51\n",
      "{0: 1, 27: 1, 28: 1, 29: 1, 30: 1, 31: 1, 32: 1, 33: 1, 34: 1, 35: 1, 36: 1, 37: 1, 38: 1, 39: 1, 40: 1, 41: 1, 42: 1, 43: 1, 44: 1}\n"
     ]
    }
   ],
   "source": [
    "print(m_train)\n",
    "print(m_test)\n",
    "print(nFeatures)\n",
    "print(clicks_train[0])\n",
    "print(prices_train[0])\n",
    "print(features_train[0])"
   ]
  },
  {
   "cell_type": "markdown",
   "metadata": {},
   "source": [
    "### Training logistic regression model on train data\n",
    "Input: features\n",
    "\n",
    "Output: P(click)"
   ]
  },
  {
   "cell_type": "code",
   "execution_count": 14,
   "metadata": {},
   "outputs": [],
   "source": [
    "def getSparseMatrix(features, m, nFeatures):\n",
    "  mat = sparse.dok_matrix((m, nFeatures), dtype=np.int8)\n",
    "  \n",
    "  for i in range(m):\n",
    "    mat[i, [key for key in features[i]]] = 1\n",
    "\n",
    "  return mat"
   ]
  },
  {
   "cell_type": "code",
   "execution_count": 18,
   "metadata": {},
   "outputs": [
    {
     "name": "stdout",
     "output_type": "stream",
     "text": [
      "CPU times: user 5min 38s, sys: 37.2 s, total: 6min 15s\n",
      "Wall time: 6min 21s\n"
     ]
    }
   ],
   "source": [
    "%%time\n",
    "phi_train = getSparseMatrix(features_train, m_train, nFeatures)"
   ]
  },
  {
   "cell_type": "code",
   "execution_count": 26,
   "metadata": {},
   "outputs": [
    {
     "name": "stdout",
     "output_type": "stream",
     "text": [
      "CPU times: user 1min 11s, sys: 19.2 s, total: 1min 30s\n",
      "Wall time: 1min 34s\n"
     ]
    }
   ],
   "source": [
    "%%time\n",
    "phi_test = getSparseMatrix(features_test, m_test, nFeatures)"
   ]
  },
  {
   "cell_type": "code",
   "execution_count": 27,
   "metadata": {},
   "outputs": [
    {
     "name": "stdout",
     "output_type": "stream",
     "text": [
      "CPU times: user 3min 29s, sys: 15.3 s, total: 3min 44s\n",
      "Wall time: 2min 3s\n"
     ]
    }
   ],
   "source": [
    "%%time\n",
    "LR = LogisticRegression()\n",
    "LR.fit(phi_train, clicks_train)"
   ]
  },
  {
   "cell_type": "markdown",
   "metadata": {},
   "source": [
    "### Using model to evaluate predicted click through rate (pCTR) on train and test datasets"
   ]
  },
  {
   "cell_type": "code",
   "execution_count": 30,
   "metadata": {},
   "outputs": [
    {
     "name": "stdout",
     "output_type": "stream",
     "text": [
      "CPU times: user 23.6 s, sys: 12.7 s, total: 36.3 s\n",
      "Wall time: 38.8 s\n"
     ]
    }
   ],
   "source": [
    "%%time\n",
    "acc_train = LR.score(phi_train, clicks_train)\n",
    "acc_test = LR.score(phi_test, clicks_test)"
   ]
  },
  {
   "cell_type": "code",
   "execution_count": 31,
   "metadata": {},
   "outputs": [
    {
     "name": "stdout",
     "output_type": "stream",
     "text": [
      "0.999562122777\n",
      "0.9994696065\n"
     ]
    }
   ],
   "source": [
    "print(acc_train)\n",
    "print(acc_test)"
   ]
  },
  {
   "cell_type": "code",
   "execution_count": 47,
   "metadata": {},
   "outputs": [],
   "source": [
    "def getPDF(probabilities):\n",
    "  return probabilities / np.sum(probabilities)"
   ]
  },
  {
   "cell_type": "code",
   "execution_count": 48,
   "metadata": {},
   "outputs": [
    {
     "name": "stdout",
     "output_type": "stream",
     "text": [
      "CPU times: user 3.87 s, sys: 158 ms, total: 4.03 s\n",
      "Wall time: 4.03 s\n"
     ]
    }
   ],
   "source": [
    "%%time\n",
    "pred_test = LR.predict_proba(phi_test)[:,1]\n",
    "pCTR_test = getPDF(pred_test)"
   ]
  },
  {
   "cell_type": "code",
   "execution_count": 49,
   "metadata": {},
   "outputs": [
    {
     "name": "stdout",
     "output_type": "stream",
     "text": [
      "[0 0 0 ..., 0 0 0]\n",
      "[118  66 110 ...,  70  81  70]\n",
      "[  1.54217054e-07   1.49105821e-07   2.26184434e-07 ...,   2.85218279e-07\n",
      "   3.49716300e-07   1.09496832e-06]\n",
      "[ 0.00010886  0.00010525  0.00015965 ...,  0.00020132  0.00024685\n",
      "  0.00077289]\n"
     ]
    }
   ],
   "source": [
    "print(clicks_test)\n",
    "print(prices_test)\n",
    "print(pCTR_test)\n",
    "print(pred_test)"
   ]
  },
  {
   "cell_type": "code",
   "execution_count": 53,
   "metadata": {},
   "outputs": [
    {
     "name": "stdout",
     "output_type": "stream",
     "text": [
      "0.985915156714\n"
     ]
    }
   ],
   "source": [
    "print(roc_auc_score(clicks_test, pred_test))"
   ]
  },
  {
   "cell_type": "code",
   "execution_count": null,
   "metadata": {},
   "outputs": [],
   "source": []
  }
 ],
 "metadata": {
  "kernelspec": {
   "display_name": "Python 3",
   "language": "python",
   "name": "python3"
  },
  "language_info": {
   "codemirror_mode": {
    "name": "ipython",
    "version": 3
   },
   "file_extension": ".py",
   "mimetype": "text/x-python",
   "name": "python",
   "nbconvert_exporter": "python",
   "pygments_lexer": "ipython3",
   "version": "3.6.5"
  }
 },
 "nbformat": 4,
 "nbformat_minor": 2
}
