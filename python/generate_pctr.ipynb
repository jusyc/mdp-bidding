{
 "cells": [
  {
   "cell_type": "markdown",
   "metadata": {},
   "source": [
    "# Generating predictions for click through rate (pCTR) via logistic regression"
   ]
  },
  {
   "cell_type": "code",
   "execution_count": 1,
   "metadata": {},
   "outputs": [],
   "source": [
    "from scipy import sparse\n",
    "from sklearn.linear_model import LogisticRegression\n",
    "from sklearn.metrics import roc_auc_score\n",
    "import numpy as np\n",
    "from config import *"
   ]
  },
  {
   "cell_type": "code",
   "execution_count": 2,
   "metadata": {},
   "outputs": [
    {
     "data": {
      "text/plain": [
       "['1458', '2259', '2261', '2821', '2997', '3358', '3386', '3427', '3476']"
      ]
     },
     "execution_count": 2,
     "metadata": {},
     "output_type": "execute_result"
    }
   ],
   "source": [
    "campaigns"
   ]
  },
  {
   "cell_type": "code",
   "execution_count": 119,
   "metadata": {},
   "outputs": [],
   "source": [
    "camp = campaigns[0]"
   ]
  },
  {
   "cell_type": "code",
   "execution_count": 120,
   "metadata": {},
   "outputs": [],
   "source": [
    "inTrainName = inPath + camp + \"/\" +  \"train.yzx.txt\"\n",
    "outTrainPath = outPath + camp + \"/train/\"\n",
    "\n",
    "inTestName = inPath + camp + \"/\" + \"test.yzx.txt\"\n",
    "outTestPath = outPath + camp + \"/test/\""
   ]
  },
  {
   "cell_type": "code",
   "execution_count": 121,
   "metadata": {},
   "outputs": [],
   "source": [
    "def log(msg):\n",
    "  if isLogging:\n",
    "    print(msg)"
   ]
  },
  {
   "cell_type": "code",
   "execution_count": 122,
   "metadata": {},
   "outputs": [],
   "source": [
    "isLogging = True"
   ]
  },
  {
   "cell_type": "markdown",
   "metadata": {},
   "source": [
    "### Loading Data\n",
    "\n",
    "Data format:\n",
    "\n",
    "click(0,1)  winning_price(int)  features(featindex1:1 featindex2:1 featindex3:1 ...)"
   ]
  },
  {
   "cell_type": "code",
   "execution_count": 123,
   "metadata": {},
   "outputs": [],
   "source": [
    "def loadData(filename):\n",
    "  log(\"Loading data...\")\n",
    "  with open(filename) as f:\n",
    "    lines = f.readlines()\n",
    "    \n",
    "  log(\"Reformatting data...\")\n",
    "  m = len(lines)\n",
    "  clicks = np.zeros((m,), dtype=int)\n",
    "  prices = np.zeros((m,), dtype=int)\n",
    "  features = []\n",
    "  for i, line in enumerate(lines):\n",
    "    line = line.split(\" \")\n",
    "    clicks[i] = line[0]\n",
    "    prices[i] = line[1]\n",
    "    features.append({int(k):int(v) for k,v in (x.split(\":\") for x in line[2:])})\n",
    "\n",
    "  return clicks, prices, features"
   ]
  },
  {
   "cell_type": "code",
   "execution_count": 124,
   "metadata": {},
   "outputs": [
    {
     "name": "stdout",
     "output_type": "stream",
     "text": [
      "Loading data...\n",
      "Reformatting data...\n",
      "CPU times: user 58.1 s, sys: 9.53 s, total: 1min 7s\n",
      "Wall time: 1min 13s\n"
     ]
    }
   ],
   "source": [
    "%%time\n",
    "d_train = loadData(inTrainName)\n",
    "clicks_train, prices_train, features_train = d_train"
   ]
  },
  {
   "cell_type": "code",
   "execution_count": 125,
   "metadata": {},
   "outputs": [
    {
     "name": "stdout",
     "output_type": "stream",
     "text": [
      "Loading data...\n",
      "Reformatting data...\n",
      "CPU times: user 11.8 s, sys: 1.71 s, total: 13.5 s\n",
      "Wall time: 14.1 s\n"
     ]
    }
   ],
   "source": [
    "%%time\n",
    "d_test = loadData(inTestName)\n",
    "clicks_test, prices_test, features_test = d_test"
   ]
  },
  {
   "cell_type": "code",
   "execution_count": 126,
   "metadata": {},
   "outputs": [],
   "source": [
    "m_train = len(clicks_train)\n",
    "m_test = len(clicks_test)\n",
    "\n",
    "nFeatures_train = max(max(i) for i in (feature for feature in features_train)) + 1\n",
    "nFeatures_test = max(max(i) for i in (feature for feature in features_train)) + 1\n",
    "nFeatures = max(nFeatures_train, nFeatures_test)"
   ]
  },
  {
   "cell_type": "code",
   "execution_count": 127,
   "metadata": {},
   "outputs": [
    {
     "name": "stdout",
     "output_type": "stream",
     "text": [
      "3083056\n",
      "614638\n",
      "560870\n",
      "0\n",
      "51\n",
      "{0: 1, 27: 1, 28: 1, 29: 1, 30: 1, 31: 1, 32: 1, 33: 1, 34: 1, 35: 1, 36: 1, 37: 1, 38: 1, 39: 1, 40: 1, 41: 1, 42: 1, 43: 1, 44: 1}\n"
     ]
    }
   ],
   "source": [
    "print(m_train)\n",
    "print(m_test)\n",
    "print(nFeatures)\n",
    "print(clicks_train[0])\n",
    "print(prices_train[0])\n",
    "print(features_train[0])"
   ]
  },
  {
   "cell_type": "code",
   "execution_count": 128,
   "metadata": {},
   "outputs": [],
   "source": [
    "#save data\n",
    "#Save data\n",
    "np.save(outTrainPath + \"features\", features_train)\n",
    "np.save(outTrainPath + \"clicks\", clicks_train)\n",
    "np.save(outTrainPath + \"prices\", prices_train)\n",
    "\n",
    "np.save(outTestPath + \"features\", features_test)\n",
    "np.save(outTestPath + \"clicks\", clicks_test)\n",
    "np.save(outTestPath + \"prices\", prices_test)"
   ]
  },
  {
   "cell_type": "markdown",
   "metadata": {},
   "source": [
    "### Training logistic regression model on train data\n",
    "Input: features\n",
    "\n",
    "Output: P(click)"
   ]
  },
  {
   "cell_type": "code",
   "execution_count": 129,
   "metadata": {},
   "outputs": [],
   "source": [
    "def getSparseMatrix(features, m, nFeatures):\n",
    "  mat = sparse.dok_matrix((m, nFeatures), dtype=np.int8)\n",
    "  \n",
    "  for i in range(m):\n",
    "    mat[i, [key for key in features[i]]] = 1\n",
    "\n",
    "  return mat"
   ]
  },
  {
   "cell_type": "code",
   "execution_count": 130,
   "metadata": {},
   "outputs": [
    {
     "name": "stdout",
     "output_type": "stream",
     "text": [
      "CPU times: user 6min 16s, sys: 2min 59s, total: 9min 15s\n",
      "Wall time: 9min 51s\n"
     ]
    }
   ],
   "source": [
    "%%time\n",
    "phi_train = getSparseMatrix(features_train, m_train, nFeatures)"
   ]
  },
  {
   "cell_type": "code",
   "execution_count": 131,
   "metadata": {},
   "outputs": [
    {
     "name": "stdout",
     "output_type": "stream",
     "text": [
      "CPU times: user 1min 16s, sys: 34.3 s, total: 1min 51s\n",
      "Wall time: 1min 58s\n"
     ]
    }
   ],
   "source": [
    "%%time\n",
    "phi_test = getSparseMatrix(features_test, m_test, nFeatures)"
   ]
  },
  {
   "cell_type": "code",
   "execution_count": 132,
   "metadata": {},
   "outputs": [
    {
     "name": "stdout",
     "output_type": "stream",
     "text": [
      "CPU times: user 2min 36s, sys: 21.1 s, total: 2min 58s\n",
      "Wall time: 2min 35s\n"
     ]
    }
   ],
   "source": [
    "%%time\n",
    "LR = LogisticRegression(penalty=\"l2\", max_iter=1000)\n",
    "LR.fit(phi_train, clicks_train)"
   ]
  },
  {
   "cell_type": "markdown",
   "metadata": {},
   "source": [
    "### Using model to evaluate predicted click through rate (pCTR) on train and test datasets"
   ]
  },
  {
   "cell_type": "code",
   "execution_count": 133,
   "metadata": {},
   "outputs": [
    {
     "name": "stdout",
     "output_type": "stream",
     "text": [
      "CPU times: user 25.8 s, sys: 19.1 s, total: 44.8 s\n",
      "Wall time: 48.7 s\n"
     ]
    }
   ],
   "source": [
    "%%time\n",
    "acc_train = LR.score(phi_train, clicks_train)\n",
    "acc_test = LR.score(phi_test, clicks_test)"
   ]
  },
  {
   "cell_type": "code",
   "execution_count": 134,
   "metadata": {},
   "outputs": [
    {
     "name": "stdout",
     "output_type": "stream",
     "text": [
      "0.999562122777\n",
      "0.9994696065\n"
     ]
    }
   ],
   "source": [
    "print(acc_train)\n",
    "print(acc_test)"
   ]
  },
  {
   "cell_type": "code",
   "execution_count": 135,
   "metadata": {},
   "outputs": [
    {
     "name": "stdout",
     "output_type": "stream",
     "text": [
      "CPU times: user 26.6 s, sys: 20.4 s, total: 47 s\n",
      "Wall time: 51.7 s\n"
     ]
    }
   ],
   "source": [
    "%%time\n",
    "pred_train = LR.predict_proba(phi_train)[:,1]\n",
    "pred_test = LR.predict_proba(phi_test)[:,1]"
   ]
  },
  {
   "cell_type": "code",
   "execution_count": 136,
   "metadata": {},
   "outputs": [
    {
     "name": "stdout",
     "output_type": "stream",
     "text": [
      "[0 0 0 ..., 0 0 0]\n",
      "[118  66 110 ...,  70  81  70]\n",
      "[ 0.00010886  0.00010525  0.00015965 ...,  0.00020132  0.00024685\n",
      "  0.00077289]\n"
     ]
    }
   ],
   "source": [
    "print(clicks_test)\n",
    "print(prices_test)\n",
    "print(pred_test)"
   ]
  },
  {
   "cell_type": "code",
   "execution_count": 137,
   "metadata": {},
   "outputs": [
    {
     "name": "stdout",
     "output_type": "stream",
     "text": [
      "0.987304871071\n",
      "0.985915156714\n"
     ]
    }
   ],
   "source": [
    "print(roc_auc_score(clicks_train, pred_train))\n",
    "print(roc_auc_score(clicks_test, pred_test))"
   ]
  },
  {
   "cell_type": "code",
   "execution_count": 138,
   "metadata": {},
   "outputs": [],
   "source": [
    "#Save data\n",
    "np.save(outTrainPath + \"pCTR\", pred_train)\n",
    "\n",
    "np.save(outTestPath + \"pCTR\", pred_test)"
   ]
  },
  {
   "cell_type": "code",
   "execution_count": null,
   "metadata": {},
   "outputs": [],
   "source": []
  },
  {
   "cell_type": "code",
   "execution_count": null,
   "metadata": {},
   "outputs": [],
   "source": []
  },
  {
   "cell_type": "code",
   "execution_count": null,
   "metadata": {},
   "outputs": [],
   "source": []
  }
 ],
 "metadata": {
  "kernelspec": {
   "display_name": "Python 3",
   "language": "python",
   "name": "python3"
  },
  "language_info": {
   "codemirror_mode": {
    "name": "ipython",
    "version": 3
   },
   "file_extension": ".py",
   "mimetype": "text/x-python",
   "name": "python",
   "nbconvert_exporter": "python",
   "pygments_lexer": "ipython3",
   "version": "3.6.5"
  }
 },
 "nbformat": 4,
 "nbformat_minor": 2
}
